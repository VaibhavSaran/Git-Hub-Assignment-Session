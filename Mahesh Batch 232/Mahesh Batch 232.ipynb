{
 "cells": [
  {
   "cell_type": "code",
   "execution_count": 4,
   "id": "c48478a8",
   "metadata": {},
   "outputs": [
    {
     "name": "stdout",
     "output_type": "stream",
     "text": [
      "greet \n",
      "\n"
     ]
    }
   ],
   "source": [
    "X=input(\"greet \")    # Greet your self\n",
    "print(X)"
   ]
  },
  {
   "cell_type": "code",
   "execution_count": 10,
   "id": "9c3a6fb2",
   "metadata": {},
   "outputs": [
    {
     "name": "stdout",
     "output_type": "stream",
     "text": [
      "enter number 3\n",
      "enter number 6\n",
      "9\n"
     ]
    }
   ],
   "source": [
    "num1=int(input(\"enter number \"))   # Sum of two numbers\n",
    "num2=int(input(\"enter number \"))\n",
    "sum=num1+num2\n",
    "print(sum)"
   ]
  },
  {
   "cell_type": "code",
   "execution_count": 13,
   "id": "4625f184",
   "metadata": {},
   "outputs": [
    {
     "name": "stdout",
     "output_type": "stream",
     "text": [
      "enter number 6\n",
      "enter number 3\n",
      "3\n"
     ]
    }
   ],
   "source": [
    "num1=int(input(\"enter number \"))   # Subtract of two numbers\n",
    "num2=int(input(\"enter number \"))\n",
    "sub=num1-num2\n",
    "print(sub)"
   ]
  },
  {
   "cell_type": "code",
   "execution_count": 12,
   "id": "8cad0632",
   "metadata": {},
   "outputs": [
    {
     "name": "stdout",
     "output_type": "stream",
     "text": [
      "enter number 6\n",
      "enter number 3\n",
      "18\n"
     ]
    }
   ],
   "source": [
    "num1=int(input(\"enter number \"))    # multiplication of two numbers\n",
    "num2=int(input(\"enter number \"))\n",
    "mul=num1*num2\n",
    "print(mul)"
   ]
  },
  {
   "cell_type": "code",
   "execution_count": 18,
   "id": "bbce496d",
   "metadata": {},
   "outputs": [
    {
     "name": "stdout",
     "output_type": "stream",
     "text": [
      "enter number 10\n",
      "enter number 3\n",
      "1\n"
     ]
    }
   ],
   "source": [
    "num1=int(input(\"enter number \"))    # modulo of two numbers\n",
    "num2=int(input(\"enter number \"))\n",
    "mol=num1%num2\n",
    "print(mol)"
   ]
  }
 ],
 "metadata": {
  "kernelspec": {
   "display_name": "Python 3 (ipykernel)",
   "language": "python",
   "name": "python3"
  },
  "language_info": {
   "codemirror_mode": {
    "name": "ipython",
    "version": 3
   },
   "file_extension": ".py",
   "mimetype": "text/x-python",
   "name": "python",
   "nbconvert_exporter": "python",
   "pygments_lexer": "ipython3",
   "version": "3.9.12"
  }
 },
 "nbformat": 4,
 "nbformat_minor": 5
}
