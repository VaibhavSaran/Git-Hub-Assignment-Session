{
 "cells": [
  {
   "cell_type": "code",
   "execution_count": null,
   "id": "4c813430",
   "metadata": {},
   "outputs": [],
   "source": [
    "# 1) WAP in python to greet yourself eg. Hello Vaibhav\n",
    "# 2) WAP in python to add 2 numbers\n",
    "# 3) WAP in python to subtract 2 numbers\n",
    "# 4) WAP in python to Multiply 2 numbers\n",
    "# 5) WAP in python to modulo 2 numbers"
   ]
  },
  {
   "cell_type": "code",
   "execution_count": 1,
   "id": "0ded9548",
   "metadata": {},
   "outputs": [
    {
     "name": "stdout",
     "output_type": "stream",
     "text": [
      "Hello Noah\n"
     ]
    }
   ],
   "source": [
    "#1 \n",
    "print(\"Hello Noah\")"
   ]
  },
  {
   "cell_type": "code",
   "execution_count": 2,
   "id": "2c34ff94",
   "metadata": {},
   "outputs": [
    {
     "name": "stdout",
     "output_type": "stream",
     "text": [
      "4\n"
     ]
    }
   ],
   "source": [
    "#2\n",
    "print(2+2)"
   ]
  },
  {
   "cell_type": "code",
   "execution_count": 3,
   "id": "1b4672d0",
   "metadata": {},
   "outputs": [
    {
     "name": "stdout",
     "output_type": "stream",
     "text": [
      "0\n"
     ]
    }
   ],
   "source": [
    "#3\n",
    "print(2-2)"
   ]
  },
  {
   "cell_type": "code",
   "execution_count": 4,
   "id": "104246aa",
   "metadata": {},
   "outputs": [
    {
     "name": "stdout",
     "output_type": "stream",
     "text": [
      "4\n"
     ]
    }
   ],
   "source": [
    "#4\n",
    "print(2*2)"
   ]
  },
  {
   "cell_type": "code",
   "execution_count": 5,
   "id": "be84e7a9",
   "metadata": {},
   "outputs": [
    {
     "name": "stdout",
     "output_type": "stream",
     "text": [
      "0\n"
     ]
    }
   ],
   "source": [
    "#5\n",
    "print(2%2)"
   ]
  },
  {
   "cell_type": "code",
   "execution_count": null,
   "id": "4a2fbd12",
   "metadata": {},
   "outputs": [],
   "source": []
  }
 ],
 "metadata": {
  "kernelspec": {
   "display_name": "Python 3 (ipykernel)",
   "language": "python",
   "name": "python3"
  },
  "language_info": {
   "codemirror_mode": {
    "name": "ipython",
    "version": 3
   },
   "file_extension": ".py",
   "mimetype": "text/x-python",
   "name": "python",
   "nbconvert_exporter": "python",
   "pygments_lexer": "ipython3",
   "version": "3.10.9"
  }
 },
 "nbformat": 4,
 "nbformat_minor": 5
}
