{
 "cells": [
  {
   "cell_type": "code",
   "execution_count": 1,
   "id": "0a7b74e1",
   "metadata": {},
   "outputs": [
    {
     "ename": "SyntaxError",
     "evalue": "unmatched ')' (3763407866.py, line 1)",
     "output_type": "error",
     "traceback": [
      "\u001b[1;36m  Cell \u001b[1;32mIn[1], line 1\u001b[1;36m\u001b[0m\n\u001b[1;33m    1) WAP in python to greet yourself eg. Hello Vaibhav\u001b[0m\n\u001b[1;37m     ^\u001b[0m\n\u001b[1;31mSyntaxError\u001b[0m\u001b[1;31m:\u001b[0m unmatched ')'\n"
     ]
    }
   ],
   "source": [
    "1) WAP in python to greet yourself eg. Hello Vaibhav\n",
    "2) WAP in python to add 2 numbers\n",
    "3WAP)  in python to subtract 2 numbers\n",
    "4) WAP in python to Multiply 2 numbers\n",
    "5) WAP in python to modulo 2 numbers"
   ]
  },
  {
   "cell_type": "code",
   "execution_count": 3,
   "id": "37ccca15",
   "metadata": {},
   "outputs": [
    {
     "name": "stdout",
     "output_type": "stream",
     "text": [
      "Hello raghu\n"
     ]
    }
   ],
   "source": [
    "#WAP in python to greet yourself eg. Hello Vaibhav\n",
    "print(\"Hello raghu\")"
   ]
  },
  {
   "cell_type": "code",
   "execution_count": 6,
   "id": "efecd2a0",
   "metadata": {},
   "outputs": [
    {
     "name": "stdout",
     "output_type": "stream",
     "text": [
      "22\n"
     ]
    }
   ],
   "source": [
    "#WAP in python to add 2 numbers\n",
    "n = 10\n",
    "m = 12\n",
    "print(n+m)"
   ]
  },
  {
   "cell_type": "code",
   "execution_count": 8,
   "id": "dbe83648",
   "metadata": {},
   "outputs": [
    {
     "name": "stdout",
     "output_type": "stream",
     "text": [
      "30\n"
     ]
    }
   ],
   "source": [
    "#WAP in python to subtract 2 numbers\n",
    "n=50\n",
    "m=20\n",
    "print(n-m)"
   ]
  },
  {
   "cell_type": "code",
   "execution_count": 9,
   "id": "0ac2a44c",
   "metadata": {},
   "outputs": [
    {
     "name": "stdout",
     "output_type": "stream",
     "text": [
      "1800\n"
     ]
    }
   ],
   "source": [
    "#WAP in python to Multiply 2 numbers\n",
    "r=60\n",
    "s=30\n",
    "print(r*s)"
   ]
  },
  {
   "cell_type": "code",
   "execution_count": 10,
   "id": "8b6c56c9",
   "metadata": {},
   "outputs": [
    {
     "name": "stdout",
     "output_type": "stream",
     "text": [
      "10\n"
     ]
    }
   ],
   "source": [
    "#WAP in python to modulo 2 numbers\n",
    "r=10\n",
    "s=20\n",
    "print(r%s)"
   ]
  },
  {
   "cell_type": "code",
   "execution_count": null,
   "id": "38ff3036",
   "metadata": {},
   "outputs": [],
   "source": []
  }
 ],
 "metadata": {
  "kernelspec": {
   "display_name": "Python 3 (ipykernel)",
   "language": "python",
   "name": "python3"
  },
  "language_info": {
   "codemirror_mode": {
    "name": "ipython",
    "version": 3
   },
   "file_extension": ".py",
   "mimetype": "text/x-python",
   "name": "python",
   "nbconvert_exporter": "python",
   "pygments_lexer": "ipython3",
   "version": "3.10.9"
  }
 },
 "nbformat": 4,
 "nbformat_minor": 5
}
