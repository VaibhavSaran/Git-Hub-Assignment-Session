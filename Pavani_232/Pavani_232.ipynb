{
 "cells": [
  {
   "cell_type": "code",
   "execution_count": 1,
   "id": "41483ae1",
   "metadata": {},
   "outputs": [],
   "source": [
    "#1) WAP in python to greet yourself eg. Hello Vaibhav\n",
    "#2) WAP in python to add 2 numbers\n",
    "#3) WAP in python to subtract 2 numbers\n",
    "#4) WAP in python to Multiply 2 numbers\n",
    "#5) WAP in python to modulo 2 numbers"
   ]
  },
  {
   "cell_type": "code",
   "execution_count": 1,
   "id": "6ca051ac",
   "metadata": {},
   "outputs": [
    {
     "name": "stdout",
     "output_type": "stream",
     "text": [
      "enter your name :Pavani\n",
      "hello  Pavani\n"
     ]
    }
   ],
   "source": [
    "#1) WAP in python to greet yourself eg. Hello Vaibhav\n",
    "name = input(\"enter your name :\")\n",
    "print(\"hello \",name)"
   ]
  },
  {
   "cell_type": "code",
   "execution_count": 3,
   "id": "3408f00e",
   "metadata": {},
   "outputs": [
    {
     "name": "stdout",
     "output_type": "stream",
     "text": [
      "Enter first number 5\n",
      "Enter second number 2\n",
      "Sum of two given numbers is  7\n"
     ]
    }
   ],
   "source": [
    "#2) WAP in python to add 2 numbers\n",
    "num1=int(input(\"Enter first number \"))\n",
    "num2=int(input(\"Enter second number \"))\n",
    "print(\"Sum of two given numbers is \",num1+num2)"
   ]
  },
  {
   "cell_type": "code",
   "execution_count": 4,
   "id": "37608a2c",
   "metadata": {},
   "outputs": [
    {
     "name": "stdout",
     "output_type": "stream",
     "text": [
      "Enter first number 4\n",
      "Enter second number 2\n",
      "Difference of two given numbers is  2\n"
     ]
    }
   ],
   "source": [
    "#3) WAP in python to subtract 2 numbers\n",
    "num1=int(input(\"Enter first number \"))\n",
    "num2=int(input(\"Enter second number \"))\n",
    "print(\"Difference of two given numbers is \",num1-num2)\n"
   ]
  },
  {
   "cell_type": "code",
   "execution_count": 5,
   "id": "b9e847bb",
   "metadata": {},
   "outputs": [
    {
     "name": "stdout",
     "output_type": "stream",
     "text": [
      "Enter first number 3\n",
      "Enter second number 3\n",
      "Product of two given numbers is  9\n"
     ]
    }
   ],
   "source": [
    "#4) WAP in python to Multiply 2 numbers\n",
    "num1=int(input(\"Enter first number \"))\n",
    "num2=int(input(\"Enter second number \"))\n",
    "print(\"Product of two given numbers is \",num1*num2)\n"
   ]
  },
  {
   "cell_type": "code",
   "execution_count": 6,
   "id": "e1897ab4",
   "metadata": {},
   "outputs": [
    {
     "name": "stdout",
     "output_type": "stream",
     "text": [
      "Enter first number 4\n",
      "Enter second number 2\n",
      "Modulo of two given numbers is  0\n"
     ]
    }
   ],
   "source": [
    "#5) WAP in python to modulo 2 numbers\n",
    "num1=int(input(\"Enter first number \"))\n",
    "num2=int(input(\"Enter second number \"))\n",
    "print(\"Modulo of two given numbers is \",num1%num2)\n",
    "\n"
   ]
  },
  {
   "cell_type": "code",
   "execution_count": null,
   "id": "63e10d67",
   "metadata": {},
   "outputs": [],
   "source": []
  }
 ],
 "metadata": {
  "kernelspec": {
   "display_name": "Python 3 (ipykernel)",
   "language": "python",
   "name": "python3"
  },
  "language_info": {
   "codemirror_mode": {
    "name": "ipython",
    "version": 3
   },
   "file_extension": ".py",
   "mimetype": "text/x-python",
   "name": "python",
   "nbconvert_exporter": "python",
   "pygments_lexer": "ipython3",
   "version": "3.10.9"
  }
 },
 "nbformat": 4,
 "nbformat_minor": 5
}
