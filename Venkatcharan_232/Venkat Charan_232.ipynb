{
 "cells": [
  {
   "cell_type": "code",
   "execution_count": 1,
   "id": "b3daac5a",
   "metadata": {},
   "outputs": [
    {
     "name": "stdout",
     "output_type": "stream",
     "text": [
      "Hello Venkat charan\n"
     ]
    }
   ],
   "source": [
    "#WAP in python to greet yourself eg. Hello Vaibhav\n",
    "print('Hello Venkat charan')"
   ]
  },
  {
   "cell_type": "code",
   "execution_count": 3,
   "id": "19e0db2c",
   "metadata": {},
   "outputs": [
    {
     "name": "stdout",
     "output_type": "stream",
     "text": [
      "3\n"
     ]
    }
   ],
   "source": [
    "#WAP in python to add 2 numbers\n",
    "a=1;b=2\n",
    "print(a+b)"
   ]
  },
  {
   "cell_type": "code",
   "execution_count": 1,
   "id": "b5fb11bb",
   "metadata": {},
   "outputs": [
    {
     "name": "stdout",
     "output_type": "stream",
     "text": [
      "-1\n"
     ]
    }
   ],
   "source": [
    "#WAP in python to subtract 2 numbers\n",
    "a=1;b=2\n",
    "print(a-b)"
   ]
  },
  {
   "cell_type": "code",
   "execution_count": 2,
   "id": "47a0a11d",
   "metadata": {},
   "outputs": [
    {
     "data": {
      "text/plain": [
       "40"
      ]
     },
     "execution_count": 2,
     "metadata": {},
     "output_type": "execute_result"
    }
   ],
   "source": [
    "#WAP in python to multiply 2 numbers\n",
    "c=5;d=8\n",
    "c*d"
   ]
  },
  {
   "cell_type": "code",
   "execution_count": 3,
   "id": "5c6a5704",
   "metadata": {},
   "outputs": [
    {
     "data": {
      "text/plain": [
       "0"
      ]
     },
     "execution_count": 3,
     "metadata": {},
     "output_type": "execute_result"
    }
   ],
   "source": [
    "#WAP in python to module 2 numbers\n",
    "e=9;f=3\n",
    "e%f"
   ]
  },
  {
   "cell_type": "code",
   "execution_count": null,
   "id": "0d0dfa2f",
   "metadata": {},
   "outputs": [],
   "source": []
  }
 ],
 "metadata": {
  "kernelspec": {
   "display_name": "Python 3 (ipykernel)",
   "language": "python",
   "name": "python3"
  },
  "language_info": {
   "codemirror_mode": {
    "name": "ipython",
    "version": 3
   },
   "file_extension": ".py",
   "mimetype": "text/x-python",
   "name": "python",
   "nbconvert_exporter": "python",
   "pygments_lexer": "ipython3",
   "version": "3.8.8"
  }
 },
 "nbformat": 4,
 "nbformat_minor": 5
}
