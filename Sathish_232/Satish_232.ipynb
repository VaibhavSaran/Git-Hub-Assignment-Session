{
 "cells": [
  {
   "cell_type": "code",
   "execution_count": null,
   "id": "cb66135e",
   "metadata": {},
   "outputs": [],
   "source": [
    "1) WAP in python to greet yourself eg. Hello Vaibhav\n",
    "2) WAP in python to add 2 numbers\n",
    "3) WAP in python to subtract 2 numbers\n",
    "4) WAP in python to Multiply 2 numbers\n",
    "5) WAP in python to modulo 2 numbers"
   ]
  },
  {
   "cell_type": "code",
   "execution_count": 3,
   "id": "57ef78e3",
   "metadata": {},
   "outputs": [
    {
     "name": "stdout",
     "output_type": "stream",
     "text": [
      "Hello Sathish\n"
     ]
    }
   ],
   "source": [
    "#1) WAP in python to greet yourself eg. Hello Vaibhav\n",
    "print(\"Hello Sathish\")"
   ]
  },
  {
   "cell_type": "code",
   "execution_count": 4,
   "id": "8954545b",
   "metadata": {},
   "outputs": [
    {
     "data": {
      "text/plain": [
       "32"
      ]
     },
     "execution_count": 4,
     "metadata": {},
     "output_type": "execute_result"
    }
   ],
   "source": [
    "#2) WAP in python to add 2 numbers\n",
    "def f1(num1,num2):\n",
    "    return num1+num2\n",
    "f1(12,20)"
   ]
  },
  {
   "cell_type": "code",
   "execution_count": 5,
   "id": "95de9f34",
   "metadata": {},
   "outputs": [
    {
     "data": {
      "text/plain": [
       "-10"
      ]
     },
     "execution_count": 5,
     "metadata": {},
     "output_type": "execute_result"
    }
   ],
   "source": [
    "#3) WAP in python to subtract 2 numbers\n",
    "def f2(num1,num2):\n",
    "    return num1-num2\n",
    "f2(20,30)"
   ]
  },
  {
   "cell_type": "code",
   "execution_count": 6,
   "id": "506a70eb",
   "metadata": {},
   "outputs": [
    {
     "data": {
      "text/plain": [
       "50"
      ]
     },
     "execution_count": 6,
     "metadata": {},
     "output_type": "execute_result"
    }
   ],
   "source": [
    "#4) WAP in python to Multiply 2 numbers\n",
    "def f3(num1,num2):\n",
    "    return num1*num2\n",
    "f3(10,5)"
   ]
  },
  {
   "cell_type": "code",
   "execution_count": 9,
   "id": "1badf9dc",
   "metadata": {},
   "outputs": [
    {
     "data": {
      "text/plain": [
       "2"
      ]
     },
     "execution_count": 9,
     "metadata": {},
     "output_type": "execute_result"
    }
   ],
   "source": [
    "#5) WAP in python to modulo 2 numbers\n",
    "def f4(num1,num2):\n",
    "    return num1%num2\n",
    "f4(20,6)"
   ]
  }
 ],
 "metadata": {
  "kernelspec": {
   "display_name": "Python 3 (ipykernel)",
   "language": "python",
   "name": "python3"
  },
  "language_info": {
   "codemirror_mode": {
    "name": "ipython",
    "version": 3
   },
   "file_extension": ".py",
   "mimetype": "text/x-python",
   "name": "python",
   "nbconvert_exporter": "python",
   "pygments_lexer": "ipython3",
   "version": "3.10.9"
  }
 },
 "nbformat": 4,
 "nbformat_minor": 5
}
