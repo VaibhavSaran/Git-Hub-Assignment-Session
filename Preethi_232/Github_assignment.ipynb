{
 "cells": [
  {
   "cell_type": "code",
   "execution_count": 1,
   "id": "258d7b56",
   "metadata": {},
   "outputs": [
    {
     "name": "stdout",
     "output_type": "stream",
     "text": [
      "Hello Preethi\n"
     ]
    }
   ],
   "source": [
    "print(\"Hello Preethi\")"
   ]
  },
  {
   "cell_type": "code",
   "execution_count": 2,
   "id": "16624597",
   "metadata": {},
   "outputs": [
    {
     "name": "stdout",
     "output_type": "stream",
     "text": [
      "Enter number1 :2\n",
      "Enter number1 :3\n",
      "Sum:  5\n"
     ]
    }
   ],
   "source": [
    "x=int(input(\"Enter number1 :\"))\n",
    "y=int(input(\"Enter number1 :\"))\n",
    "print(\"Sum: \",x+y)"
   ]
  },
  {
   "cell_type": "code",
   "execution_count": 3,
   "id": "638f2d34",
   "metadata": {},
   "outputs": [
    {
     "name": "stdout",
     "output_type": "stream",
     "text": [
      "Enter number1 :3\n",
      "Enter number1 :1\n",
      "Difference:  2\n"
     ]
    }
   ],
   "source": [
    "x=int(input(\"Enter number1 :\"))\n",
    "y=int(input(\"Enter number1 :\"))\n",
    "print(\"Difference: \",x-y)"
   ]
  },
  {
   "cell_type": "code",
   "execution_count": 4,
   "id": "ba1b4bac",
   "metadata": {},
   "outputs": [
    {
     "name": "stdout",
     "output_type": "stream",
     "text": [
      "Enter number1 :4\n",
      "Enter number1 :3\n",
      "Product:  12\n"
     ]
    }
   ],
   "source": [
    "x=int(input(\"Enter number1 :\"))\n",
    "y=int(input(\"Enter number1 :\"))\n",
    "print(\"Product: \",x*y)"
   ]
  },
  {
   "cell_type": "code",
   "execution_count": 5,
   "id": "7b26d1f8",
   "metadata": {},
   "outputs": [
    {
     "name": "stdout",
     "output_type": "stream",
     "text": [
      "Enter number1 :4\n",
      "Enter number1 :3\n",
      "Modulus:  1\n"
     ]
    }
   ],
   "source": [
    "x=int(input(\"Enter number1 :\"))\n",
    "y=int(input(\"Enter number1 :\"))\n",
    "print(\"Modulus: \",x%y)"
   ]
  }
 ],
 "metadata": {
  "kernelspec": {
   "display_name": "Python 3 (ipykernel)",
   "language": "python",
   "name": "python3"
  },
  "language_info": {
   "codemirror_mode": {
    "name": "ipython",
    "version": 3
   },
   "file_extension": ".py",
   "mimetype": "text/x-python",
   "name": "python",
   "nbconvert_exporter": "python",
   "pygments_lexer": "ipython3",
   "version": "3.10.9"
  }
 },
 "nbformat": 4,
 "nbformat_minor": 5
}
