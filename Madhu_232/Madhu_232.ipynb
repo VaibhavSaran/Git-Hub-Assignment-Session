{
 "cells": [
  {
   "cell_type": "markdown",
   "id": "e72de922",
   "metadata": {},
   "source": [
    "1 WAP in python to greet yourself eg. Hello Vaibhav"
   ]
  },
  {
   "cell_type": "code",
   "execution_count": 2,
   "id": "c7486078",
   "metadata": {},
   "outputs": [
    {
     "name": "stdout",
     "output_type": "stream",
     "text": [
      "Hello Vaibhav\n"
     ]
    }
   ],
   "source": [
    "greet=\"Hello Vaibhav\"\n",
    "print(greet)"
   ]
  },
  {
   "cell_type": "markdown",
   "id": "1e1a1c3a",
   "metadata": {},
   "source": [
    "2) WAP in python to add 2 numbers"
   ]
  },
  {
   "cell_type": "code",
   "execution_count": 1,
   "id": "4b1becf9",
   "metadata": {},
   "outputs": [
    {
     "name": "stdout",
     "output_type": "stream",
     "text": [
      "30\n"
     ]
    }
   ],
   "source": [
    "a,b=10,20\n",
    "print(a+b)"
   ]
  },
  {
   "cell_type": "markdown",
   "id": "9b258fe2",
   "metadata": {},
   "source": [
    "3) WAP in python to subtract 2 numbers"
   ]
  },
  {
   "cell_type": "code",
   "execution_count": 5,
   "id": "7e6d981e",
   "metadata": {},
   "outputs": [
    {
     "name": "stdout",
     "output_type": "stream",
     "text": [
      "-10\n"
     ]
    }
   ],
   "source": [
    "a,b=10,20\n",
    "print(a-b)"
   ]
  },
  {
   "cell_type": "markdown",
   "id": "1e1da277",
   "metadata": {},
   "source": [
    "4) WAP in python to Multiply 2 numbers"
   ]
  },
  {
   "cell_type": "code",
   "execution_count": 3,
   "id": "e87e0348",
   "metadata": {},
   "outputs": [
    {
     "name": "stdout",
     "output_type": "stream",
     "text": [
      "200\n"
     ]
    }
   ],
   "source": [
    "a,b=10,20\n",
    "print(a*b)"
   ]
  },
  {
   "cell_type": "markdown",
   "id": "604ed7e2",
   "metadata": {},
   "source": [
    "5) WAP in python to modulo 2 numbers"
   ]
  },
  {
   "cell_type": "code",
   "execution_count": 6,
   "id": "137e6d9c",
   "metadata": {},
   "outputs": [
    {
     "name": "stdout",
     "output_type": "stream",
     "text": [
      "10\n"
     ]
    }
   ],
   "source": [
    "a,b=10,20\n",
    "print(a%b)"
   ]
  },
  {
   "cell_type": "code",
   "execution_count": null,
   "id": "72ef1022",
   "metadata": {},
   "outputs": [],
   "source": []
  }
 ],
 "metadata": {
  "kernelspec": {
   "display_name": "Python 3 (ipykernel)",
   "language": "python",
   "name": "python3"
  },
  "language_info": {
   "codemirror_mode": {
    "name": "ipython",
    "version": 3
   },
   "file_extension": ".py",
   "mimetype": "text/x-python",
   "name": "python",
   "nbconvert_exporter": "python",
   "pygments_lexer": "ipython3",
   "version": "3.9.13"
  }
 },
 "nbformat": 4,
 "nbformat_minor": 5
}
