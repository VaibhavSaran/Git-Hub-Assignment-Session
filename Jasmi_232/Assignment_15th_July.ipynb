{
 "cells": [
  {
   "cell_type": "markdown",
   "id": "21cb9d5b",
   "metadata": {},
   "source": [
    "- 1) WAP in python to greet yourself eg. Hello Vaibhav"
   ]
  },
  {
   "cell_type": "code",
   "execution_count": 1,
   "id": "c1d5ea38",
   "metadata": {},
   "outputs": [
    {
     "name": "stdout",
     "output_type": "stream",
     "text": [
      "Hello Jasmi\n"
     ]
    }
   ],
   "source": [
    "print(\"Hello Jasmi\")"
   ]
  },
  {
   "cell_type": "markdown",
   "id": "57f1b996",
   "metadata": {},
   "source": [
    "- 2) WAP in python to add 2 numbers"
   ]
  },
  {
   "cell_type": "code",
   "execution_count": 4,
   "id": "5af2ede8",
   "metadata": {},
   "outputs": [
    {
     "name": "stdout",
     "output_type": "stream",
     "text": [
      "Enter a number: 2\n",
      "Enter a number: 3\n",
      "The sum of 2 and 3 is 5.\n"
     ]
    }
   ],
   "source": [
    "a=int(input(\"Enter a number: \"))\n",
    "b=int(input(\"Enter a number: \"))\n",
    "print(\"The sum of {} and {} is {}.\".format(a,b,(a+b)))"
   ]
  },
  {
   "cell_type": "markdown",
   "id": "2b7e8312",
   "metadata": {},
   "source": [
    "- 3) WAP in python to subtract 2 numbers"
   ]
  },
  {
   "cell_type": "code",
   "execution_count": 5,
   "id": "730cbffa",
   "metadata": {},
   "outputs": [
    {
     "name": "stdout",
     "output_type": "stream",
     "text": [
      "Enter a number: 3\n",
      "Enter a number: 2\n",
      "The differnce of 3 and 2 is 1.\n"
     ]
    }
   ],
   "source": [
    "a=int(input(\"Enter a number: \"))\n",
    "b=int(input(\"Enter a number: \"))\n",
    "print(\"The differnce of {} and {} is {}.\".format(a,b,(a-b)))"
   ]
  },
  {
   "cell_type": "markdown",
   "id": "f0fed5e3",
   "metadata": {},
   "source": [
    "- 4) WAP in python to Multiply 2 numbers"
   ]
  },
  {
   "cell_type": "code",
   "execution_count": 7,
   "id": "15e235eb",
   "metadata": {},
   "outputs": [
    {
     "name": "stdout",
     "output_type": "stream",
     "text": [
      "Enter a number: 4\n",
      "Enter a number: 2\n",
      "The product of 4 and 2 is 8.\n"
     ]
    }
   ],
   "source": [
    "a=int(input(\"Enter a number: \"))\n",
    "b=int(input(\"Enter a number: \"))\n",
    "print(\"The product of {} and {} is {}.\".format(a,b,(a*b)))"
   ]
  },
  {
   "cell_type": "markdown",
   "id": "f1dabe8b",
   "metadata": {},
   "source": [
    "- 5) WAP in python to modulo 2 numbers"
   ]
  },
  {
   "cell_type": "code",
   "execution_count": 8,
   "id": "3801256f",
   "metadata": {},
   "outputs": [
    {
     "name": "stdout",
     "output_type": "stream",
     "text": [
      "Enter a number: 17\n",
      "Enter a number: 2\n",
      "The remainder of 17 and 2 is 1.\n"
     ]
    }
   ],
   "source": [
    "a=int(input(\"Enter a number: \"))\n",
    "b=int(input(\"Enter a number: \"))\n",
    "print(\"The remainder of {} and {} is {}.\".format(a,b,(a%b)))"
   ]
  },
  {
   "cell_type": "code",
   "execution_count": null,
   "id": "7f43e491",
   "metadata": {},
   "outputs": [],
   "source": []
  }
 ],
 "metadata": {
  "kernelspec": {
   "display_name": "Python 3 (ipykernel)",
   "language": "python",
   "name": "python3"
  },
  "language_info": {
   "codemirror_mode": {
    "name": "ipython",
    "version": 3
   },
   "file_extension": ".py",
   "mimetype": "text/x-python",
   "name": "python",
   "nbconvert_exporter": "python",
   "pygments_lexer": "ipython3",
   "version": "3.10.9"
  }
 },
 "nbformat": 4,
 "nbformat_minor": 5
}
