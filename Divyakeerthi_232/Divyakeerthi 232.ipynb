{
 "cells": [
  {
   "cell_type": "code",
   "execution_count": 2,
   "id": "88f2c815",
   "metadata": {},
   "outputs": [
    {
     "name": "stdout",
     "output_type": "stream",
     "text": [
      "Give a number: 1\n",
      "Give a number: 2\n",
      "Add:  3\n",
      "Sub:  -1\n",
      "Mul:  2\n",
      "Modul:  1\n",
      "Hello DivyaKeerthi\n"
     ]
    }
   ],
   "source": [
    "a=int(input(\"Give a number: \"))\n",
    "b=int(input(\"Give a number: \"))\n",
    "print(\"Add: \",a+b)\n",
    "print(\"Sub: \",a-b)\n",
    "print(\"Mul: \",a*b)\n",
    "print(\"Modul: \",a%b)\n",
    "print(\"Hello DivyaKeerthi\")\n"
   ]
  },
  {
   "cell_type": "code",
   "execution_count": null,
   "id": "214d4df8",
   "metadata": {},
   "outputs": [],
   "source": []
  }
 ],
 "metadata": {
  "kernelspec": {
   "display_name": "Python 3 (ipykernel)",
   "language": "python",
   "name": "python3"
  },
  "language_info": {
   "codemirror_mode": {
    "name": "ipython",
    "version": 3
   },
   "file_extension": ".py",
   "mimetype": "text/x-python",
   "name": "python",
   "nbconvert_exporter": "python",
   "pygments_lexer": "ipython3",
   "version": "3.10.9"
  }
 },
 "nbformat": 4,
 "nbformat_minor": 5
}
