{
 "cells": [
  {
   "cell_type": "code",
   "execution_count": 1,
   "id": "8f8062b8",
   "metadata": {},
   "outputs": [
    {
     "name": "stdout",
     "output_type": "stream",
     "text": [
      "enter your name:varshini\n",
      "varshini\n"
     ]
    }
   ],
   "source": [
    "#1.WAP in python to greet yourself eg. Hello Vaibhav\n",
    "\n",
    "x=input(\"enter your name:\")\n",
    "print(x)"
   ]
  },
  {
   "cell_type": "code",
   "execution_count": 2,
   "id": "ef15d11b",
   "metadata": {},
   "outputs": [
    {
     "name": "stdout",
     "output_type": "stream",
     "text": [
      "enter a number:2\n",
      "enter a number:3\n",
      "5\n"
     ]
    }
   ],
   "source": [
    "#2. WAP in python to add 2 numbers\n",
    "\n",
    "x=int(input(\"enter a number:\"))\n",
    "y=int(input(\"enter a number:\"))\n",
    "print(x+y)"
   ]
  },
  {
   "cell_type": "code",
   "execution_count": 3,
   "id": "9595c521",
   "metadata": {},
   "outputs": [
    {
     "name": "stdout",
     "output_type": "stream",
     "text": [
      "enter a number:4\n",
      "enter a number:5\n",
      "-1\n"
     ]
    }
   ],
   "source": [
    "#3. WAP in python to subtract 2 numbers\n",
    "\n",
    "x=int(input(\"enter a number:\"))\n",
    "y=int(input(\"enter a number:\"))\n",
    "print(x-y)\n"
   ]
  },
  {
   "cell_type": "code",
   "execution_count": 4,
   "id": "c229f24c",
   "metadata": {},
   "outputs": [
    {
     "name": "stdout",
     "output_type": "stream",
     "text": [
      "enter a number:3\n",
      "enter a number:5\n",
      "15\n"
     ]
    }
   ],
   "source": [
    "#4.WAP in python to Multiply 2 numbers\n",
    "\n",
    "x=int(input(\"enter a number:\"))\n",
    "y=int(input(\"enter a number:\"))\n",
    "print(x*y)"
   ]
  },
  {
   "cell_type": "code",
   "execution_count": 5,
   "id": "1a32ef69",
   "metadata": {},
   "outputs": [
    {
     "name": "stdout",
     "output_type": "stream",
     "text": [
      "enter a number:5\n",
      "enter a number:5\n",
      "0\n"
     ]
    }
   ],
   "source": [
    "#5. WAP in python to modulo 2 numbers\n",
    "\n",
    "x=int(input(\"enter a number:\"))\n",
    "y=int(input(\"enter a number:\"))\n",
    "print(x%y)"
   ]
  },
  {
   "cell_type": "code",
   "execution_count": null,
   "id": "2c982327",
   "metadata": {},
   "outputs": [],
   "source": []
  }
 ],
 "metadata": {
  "kernelspec": {
   "display_name": "Python 3 (ipykernel)",
   "language": "python",
   "name": "python3"
  },
  "language_info": {
   "codemirror_mode": {
    "name": "ipython",
    "version": 3
   },
   "file_extension": ".py",
   "mimetype": "text/x-python",
   "name": "python",
   "nbconvert_exporter": "python",
   "pygments_lexer": "ipython3",
   "version": "3.10.9"
  }
 },
 "nbformat": 4,
 "nbformat_minor": 5
}
